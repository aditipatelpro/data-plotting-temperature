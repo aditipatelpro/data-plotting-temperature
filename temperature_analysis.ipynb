{
 "cells": [
  {
   "cell_type": "code",
   "execution_count": 83,
   "metadata": {},
   "outputs": [],
   "source": [
    "import pandas as pd\n",
    "import seaborn as sns\n",
    "from matplotlib import pyplot"
   ]
  },
  {
   "cell_type": "code",
   "execution_count": 84,
   "metadata": {},
   "outputs": [
    {
     "name": "stdout",
     "output_type": "stream",
     "text": [
      "              datetime   Vancouver    Portland  San Francisco     Seattle  \\\n",
      "0  2012-10-01 12:00:00         NaN         NaN            NaN         NaN   \n",
      "1  2012-10-01 13:00:00  284.630000  282.080000     289.480000  281.800000   \n",
      "2  2012-10-01 14:00:00  284.629041  282.083252     289.474993  281.797217   \n",
      "3  2012-10-01 15:00:00  284.626998  282.091866     289.460618  281.789833   \n",
      "4  2012-10-01 16:00:00  284.624955  282.100481     289.446243  281.782449   \n",
      "\n",
      "   Los Angeles   San Diego   Las Vegas     Phoenix  Albuquerque  ...  \\\n",
      "0          NaN         NaN         NaN         NaN          NaN  ...   \n",
      "1   291.870000  291.530000  293.410000  296.600000   285.120000  ...   \n",
      "2   291.868186  291.533501  293.403141  296.608509   285.154558  ...   \n",
      "3   291.862844  291.543355  293.392177  296.631487   285.233952  ...   \n",
      "4   291.857503  291.553209  293.381213  296.654466   285.313345  ...   \n",
      "\n",
      "   Philadelphia    New York    Montreal      Boston   Beersheba  \\\n",
      "0           NaN         NaN         NaN         NaN         NaN   \n",
      "1    285.630000  288.220000  285.830000  287.170000  307.590000   \n",
      "2    285.663208  288.247676  285.834650  287.186092  307.590000   \n",
      "3    285.756824  288.326940  285.847790  287.231672  307.391513   \n",
      "4    285.850440  288.406203  285.860929  287.277251  307.145200   \n",
      "\n",
      "   Tel Aviv District       Eilat  Haifa  Nahariyya  Jerusalem  \n",
      "0                NaN  309.100000    NaN        NaN        NaN  \n",
      "1         305.470000  310.580000  304.4      304.4      303.5  \n",
      "2         304.310000  310.495769  304.4      304.4      303.5  \n",
      "3         304.281841  310.411538  304.4      304.4      303.5  \n",
      "4         304.238015  310.327308  304.4      304.4      303.5  \n",
      "\n",
      "[5 rows x 37 columns]\n",
      "                  datetime  Vancouver  Portland  San Francisco  Seattle  \\\n",
      "45248  2017-11-29 20:00:00        NaN    282.00            NaN   280.82   \n",
      "45249  2017-11-29 21:00:00        NaN    282.89            NaN   281.65   \n",
      "45250  2017-11-29 22:00:00        NaN    283.39            NaN   282.75   \n",
      "45251  2017-11-29 23:00:00        NaN    283.02            NaN   282.96   \n",
      "45252  2017-11-30 00:00:00        NaN    282.28            NaN   283.04   \n",
      "\n",
      "       Los Angeles  San Diego  Las Vegas  Phoenix  Albuquerque  ...  \\\n",
      "45248       293.55     292.15     289.54   294.71       285.72  ...   \n",
      "45249       295.68     292.74     290.61   295.59       286.45  ...   \n",
      "45250       295.96     292.58     291.34   296.25       286.44  ...   \n",
      "45251       295.65     292.61     292.15   297.15       286.14  ...   \n",
      "45252       294.93     291.40     291.64   297.15       284.70  ...   \n",
      "\n",
      "       Philadelphia  New York  Montreal  Boston  Beersheba  Tel Aviv District  \\\n",
      "45248        290.24       NaN    275.13  288.08        NaN                NaN   \n",
      "45249        289.24       NaN    274.13  286.02        NaN                NaN   \n",
      "45250        286.78       NaN    273.48  283.94        NaN                NaN   \n",
      "45251        284.57       NaN    272.48  282.17        NaN                NaN   \n",
      "45252        283.42       NaN    271.80  280.65        NaN                NaN   \n",
      "\n",
      "       Eilat  Haifa  Nahariyya  Jerusalem  \n",
      "45248    NaN    NaN        NaN        NaN  \n",
      "45249    NaN    NaN        NaN        NaN  \n",
      "45250    NaN    NaN        NaN        NaN  \n",
      "45251    NaN    NaN        NaN        NaN  \n",
      "45252    NaN    NaN        NaN        NaN  \n",
      "\n",
      "[5 rows x 37 columns]\n"
     ]
    }
   ],
   "source": [
    "temperature_df = pd.read_csv('temperature.csv')\n",
    "print(temperature_df.head(5))\n",
    "print(temperature_df.tail(5))\n"
   ]
  },
  {
   "cell_type": "code",
   "execution_count": 85,
   "metadata": {},
   "outputs": [],
   "source": [
    "modified_df = temperature_df.iloc[::24]"
   ]
  },
  {
   "cell_type": "code",
   "execution_count": 86,
   "metadata": {},
   "outputs": [
    {
     "name": "stdout",
     "output_type": "stream",
     "text": [
      "                datetime    New York\n",
      "24   2012-10-02 12:00:00  289.991473\n",
      "48   2012-10-03 12:00:00  290.370000\n",
      "72   2012-10-04 12:00:00  290.840000\n",
      "96   2012-10-05 12:00:00  293.180000\n",
      "120  2012-10-06 12:00:00  288.240000\n",
      "                  datetime  New York\n",
      "44352  2017-10-23 12:00:00    289.07\n",
      "44376  2017-10-24 12:00:00    294.23\n",
      "44400  2017-10-25 12:00:00    286.15\n",
      "44424  2017-10-26 12:00:00    284.31\n",
      "44448  2017-10-27 12:00:00    278.44\n"
     ]
    }
   ],
   "source": [
    "nyc_df = temperature_df[['datetime','New York']]\n",
    "nyc_df = nyc_df.iloc[::24]\n",
    "nyc_df.dropna(how='any', inplace=True)\n",
    "\n",
    "print(nyc_df.head(5))\n",
    "print(nyc_df.tail(5))"
   ]
  },
  {
   "cell_type": "code",
   "execution_count": 87,
   "metadata": {},
   "outputs": [],
   "source": [
    "nyc_df['New York'] = nyc_df['New York'].apply(lambda x: (x-273.15) * 9/5 + 32)"
   ]
  },
  {
   "cell_type": "code",
   "execution_count": 88,
   "metadata": {},
   "outputs": [
    {
     "name": "stdout",
     "output_type": "stream",
     "text": [
      "                datetime   New York\n",
      "24   2012-10-02 12:00:00  62.314651\n",
      "48   2012-10-03 12:00:00  62.996000\n",
      "72   2012-10-04 12:00:00  63.842000\n",
      "96   2012-10-05 12:00:00  68.054000\n",
      "120  2012-10-06 12:00:00  59.162000\n"
     ]
    }
   ],
   "source": [
    "print(nyc_df.head(5))"
   ]
  },
  {
   "cell_type": "code",
   "execution_count": 89,
   "metadata": {},
   "outputs": [
    {
     "name": "stdout",
     "output_type": "stream",
     "text": [
      "<class 'pandas.core.frame.DataFrame'>\n",
      "Int64Index: 1852 entries, 24 to 44448\n",
      "Data columns (total 2 columns):\n",
      "datetime    1852 non-null object\n",
      "New York    1852 non-null float64\n",
      "dtypes: float64(1), object(1)\n",
      "memory usage: 43.4+ KB\n",
      "None\n"
     ]
    }
   ],
   "source": [
    "print(nyc_df.info())"
   ]
  },
  {
   "cell_type": "code",
   "execution_count": 90,
   "metadata": {},
   "outputs": [],
   "source": [
    "nyc_df['datetime'] = pd.to_datetime(nyc_df['datetime'])\n",
    "nyc_df['year'] = nyc_df['datetime'].dt.year\n",
    "nyc_df['day'] = nyc_df['datetime'].dt.dayofyear"
   ]
  },
  {
   "cell_type": "code",
   "execution_count": 91,
   "metadata": {},
   "outputs": [
    {
     "name": "stdout",
     "output_type": "stream",
     "text": [
      "<class 'pandas.core.frame.DataFrame'>\n",
      "Int64Index: 1852 entries, 24 to 44448\n",
      "Data columns (total 4 columns):\n",
      "datetime    1852 non-null datetime64[ns]\n",
      "New York    1852 non-null float64\n",
      "year        1852 non-null int64\n",
      "day         1852 non-null int64\n",
      "dtypes: datetime64[ns](1), float64(1), int64(2)\n",
      "memory usage: 72.3 KB\n",
      "None\n"
     ]
    }
   ],
   "source": [
    "print(nyc_df.info())"
   ]
  },
  {
   "cell_type": "code",
   "execution_count": 92,
   "metadata": {},
   "outputs": [],
   "source": [
    "nyc_df.columns = ['date','temperature','year','day' ]\n",
    "nyc_df.reset_index(inplace=True)\n"
   ]
  },
  {
   "cell_type": "code",
   "execution_count": 94,
   "metadata": {},
   "outputs": [
    {
     "name": "stdout",
     "output_type": "stream",
     "text": [
      "<class 'pandas.core.frame.DataFrame'>\n",
      "RangeIndex: 1852 entries, 0 to 1851\n",
      "Data columns (total 5 columns):\n",
      "index          1852 non-null int64\n",
      "date           1852 non-null datetime64[ns]\n",
      "temperature    1852 non-null float64\n",
      "year           1852 non-null int64\n",
      "day            1852 non-null int64\n",
      "dtypes: datetime64[ns](1), float64(1), int64(3)\n",
      "memory usage: 72.5 KB\n",
      "None\n"
     ]
    },
    {
     "data": {
      "text/html": [
       "<div>\n",
       "<style scoped>\n",
       "    .dataframe tbody tr th:only-of-type {\n",
       "        vertical-align: middle;\n",
       "    }\n",
       "\n",
       "    .dataframe tbody tr th {\n",
       "        vertical-align: top;\n",
       "    }\n",
       "\n",
       "    .dataframe thead th {\n",
       "        text-align: right;\n",
       "    }\n",
       "</style>\n",
       "<table border=\"1\" class=\"dataframe\">\n",
       "  <thead>\n",
       "    <tr style=\"text-align: right;\">\n",
       "      <th></th>\n",
       "      <th>index</th>\n",
       "      <th>date</th>\n",
       "      <th>temperature</th>\n",
       "      <th>year</th>\n",
       "      <th>day</th>\n",
       "    </tr>\n",
       "  </thead>\n",
       "  <tbody>\n",
       "    <tr>\n",
       "      <th>0</th>\n",
       "      <td>24</td>\n",
       "      <td>2012-10-02 12:00:00</td>\n",
       "      <td>62.314651</td>\n",
       "      <td>2012</td>\n",
       "      <td>276</td>\n",
       "    </tr>\n",
       "    <tr>\n",
       "      <th>1</th>\n",
       "      <td>48</td>\n",
       "      <td>2012-10-03 12:00:00</td>\n",
       "      <td>62.996000</td>\n",
       "      <td>2012</td>\n",
       "      <td>277</td>\n",
       "    </tr>\n",
       "    <tr>\n",
       "      <th>2</th>\n",
       "      <td>72</td>\n",
       "      <td>2012-10-04 12:00:00</td>\n",
       "      <td>63.842000</td>\n",
       "      <td>2012</td>\n",
       "      <td>278</td>\n",
       "    </tr>\n",
       "    <tr>\n",
       "      <th>3</th>\n",
       "      <td>96</td>\n",
       "      <td>2012-10-05 12:00:00</td>\n",
       "      <td>68.054000</td>\n",
       "      <td>2012</td>\n",
       "      <td>279</td>\n",
       "    </tr>\n",
       "    <tr>\n",
       "      <th>4</th>\n",
       "      <td>120</td>\n",
       "      <td>2012-10-06 12:00:00</td>\n",
       "      <td>59.162000</td>\n",
       "      <td>2012</td>\n",
       "      <td>280</td>\n",
       "    </tr>\n",
       "  </tbody>\n",
       "</table>\n",
       "</div>"
      ],
      "text/plain": [
       "   index                date  temperature  year  day\n",
       "0     24 2012-10-02 12:00:00    62.314651  2012  276\n",
       "1     48 2012-10-03 12:00:00    62.996000  2012  277\n",
       "2     72 2012-10-04 12:00:00    63.842000  2012  278\n",
       "3     96 2012-10-05 12:00:00    68.054000  2012  279\n",
       "4    120 2012-10-06 12:00:00    59.162000  2012  280"
      ]
     },
     "execution_count": 94,
     "metadata": {},
     "output_type": "execute_result"
    }
   ],
   "source": [
    "print(nyc_df.info())\n",
    "nyc_df.head()"
   ]
  },
  {
   "cell_type": "code",
   "execution_count": null,
   "metadata": {},
   "outputs": [],
   "source": []
  }
 ],
 "metadata": {
  "kernelspec": {
   "display_name": "Python 3",
   "language": "python",
   "name": "python3"
  },
  "language_info": {
   "codemirror_mode": {
    "name": "ipython",
    "version": 3
   },
   "file_extension": ".py",
   "mimetype": "text/x-python",
   "name": "python",
   "nbconvert_exporter": "python",
   "pygments_lexer": "ipython3",
   "version": "3.7.5"
  }
 },
 "nbformat": 4,
 "nbformat_minor": 2
}
