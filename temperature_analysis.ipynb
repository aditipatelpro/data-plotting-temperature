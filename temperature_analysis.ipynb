{
 "cells": [
  {
   "cell_type": "markdown",
   "metadata": {},
   "source": [
    "# Analysis Repo\n",
    "\n",
    "This notebook is created to plot **NYC Temperature Data** from 2012 to 2018 using various python libraries. The following libraries were used to achieve the task:\n",
    "\n",
    "1. Pandas\n",
    "2. Seaborn\n",
    "3. Matplotlib\n",
    "4. Plotly\n",
    "\n",
    "The data source used is from : [Historical Hourly Weather Data](https://www.kaggle.com/selfishgene/historical-hourly-weather-data/download/66CX79Dkn3oTg1hkOCz5%2Fversions%2FUxMZwcyAxkF5pqUcx9oG%2Ffiles%2Fcity_attributes.csv?datasetVersionNumber=2)"
   ]
  },
  {
   "cell_type": "markdown",
   "metadata": {},
   "source": [
    "## Step 1: Importing Data\n",
    "Using pandas we can easily import data from a csv file."
   ]
  },
  {
   "cell_type": "code",
   "execution_count": 1,
   "metadata": {},
   "outputs": [
    {
     "name": "stdout",
     "output_type": "stream",
     "text": [
      "              datetime   Vancouver    Portland  San Francisco     Seattle  \\\n",
      "0  2012-10-01 12:00:00         NaN         NaN            NaN         NaN   \n",
      "1  2012-10-01 13:00:00  284.630000  282.080000     289.480000  281.800000   \n",
      "2  2012-10-01 14:00:00  284.629041  282.083252     289.474993  281.797217   \n",
      "3  2012-10-01 15:00:00  284.626998  282.091866     289.460618  281.789833   \n",
      "4  2012-10-01 16:00:00  284.624955  282.100481     289.446243  281.782449   \n",
      "\n",
      "   Los Angeles   San Diego   Las Vegas     Phoenix  Albuquerque  ...  \\\n",
      "0          NaN         NaN         NaN         NaN          NaN  ...   \n",
      "1   291.870000  291.530000  293.410000  296.600000   285.120000  ...   \n",
      "2   291.868186  291.533501  293.403141  296.608509   285.154558  ...   \n",
      "3   291.862844  291.543355  293.392177  296.631487   285.233952  ...   \n",
      "4   291.857503  291.553209  293.381213  296.654466   285.313345  ...   \n",
      "\n",
      "   Philadelphia    New York    Montreal      Boston   Beersheba  \\\n",
      "0           NaN         NaN         NaN         NaN         NaN   \n",
      "1    285.630000  288.220000  285.830000  287.170000  307.590000   \n",
      "2    285.663208  288.247676  285.834650  287.186092  307.590000   \n",
      "3    285.756824  288.326940  285.847790  287.231672  307.391513   \n",
      "4    285.850440  288.406203  285.860929  287.277251  307.145200   \n",
      "\n",
      "   Tel Aviv District       Eilat  Haifa  Nahariyya  Jerusalem  \n",
      "0                NaN  309.100000    NaN        NaN        NaN  \n",
      "1         305.470000  310.580000  304.4      304.4      303.5  \n",
      "2         304.310000  310.495769  304.4      304.4      303.5  \n",
      "3         304.281841  310.411538  304.4      304.4      303.5  \n",
      "4         304.238015  310.327308  304.4      304.4      303.5  \n",
      "\n",
      "[5 rows x 37 columns]\n"
     ]
    }
   ],
   "source": [
    "import pandas as pd\n",
    "temperature_df = pd.read_csv('temperature.csv')\n",
    "print(temperature_df.head(5))"
   ]
  },
  {
   "cell_type": "markdown",
   "metadata": {},
   "source": [
    "## Step 2: Sampling Size\n",
    "We are only concentrating on one location (NYC). Then modifying DataFrame to include one reading out of every 24 rows. Lastly, removing empty cells, if any, from the dataset."
   ]
  },
  {
   "cell_type": "code",
   "execution_count": 2,
   "metadata": {},
   "outputs": [
    {
     "name": "stdout",
     "output_type": "stream",
     "text": [
      "                datetime    New York\n",
      "24   2012-10-02 12:00:00  289.991473\n",
      "48   2012-10-03 12:00:00  290.370000\n",
      "72   2012-10-04 12:00:00  290.840000\n",
      "96   2012-10-05 12:00:00  293.180000\n",
      "120  2012-10-06 12:00:00  288.240000\n",
      "                  datetime  New York\n",
      "44352  2017-10-23 12:00:00    289.07\n",
      "44376  2017-10-24 12:00:00    294.23\n",
      "44400  2017-10-25 12:00:00    286.15\n",
      "44424  2017-10-26 12:00:00    284.31\n",
      "44448  2017-10-27 12:00:00    278.44\n"
     ]
    }
   ],
   "source": [
    "nyc_df = temperature_df[['datetime','New York']]\n",
    "\n",
    "#Removing reading per day\n",
    "nyc_df = nyc_df.iloc[::24]\n",
    "\n",
    "#Removing empty cells\n",
    "nyc_df.dropna(how='any', inplace=True)\n",
    "print(nyc_df.head(5))\n",
    "print(nyc_df.tail(5))"
   ]
  },
  {
   "cell_type": "markdown",
   "metadata": {},
   "source": [
    "## Step 3: Changing Temperature Unit\n",
    "\n",
    "We are changing temperature's unit from Kelvin to Fahrenheit using $ (x − 273.15) × 9/5 + 32 $ formula and lambda function."
   ]
  },
  {
   "cell_type": "code",
   "execution_count": 3,
   "metadata": {},
   "outputs": [],
   "source": [
    "nyc_df['New York'] = nyc_df['New York'].apply(lambda x: (x-273.15) * 9/5 + 32)"
   ]
  },
  {
   "cell_type": "markdown",
   "metadata": {},
   "source": [
    "## Step 4:  Modifying the Datatypes and Housecleaning\n",
    "\n",
    "As we have loaded our data from a csv file, some of our data types will be objects when Pandas doesn't know what's up. Running `print(nyc_df.info())` shows that date column is interpreted as object, hence should be converted into datetime datatype.\n"
   ]
  },
  {
   "cell_type": "code",
   "execution_count": 4,
   "metadata": {},
   "outputs": [],
   "source": [
    "#Converting data types\n",
    "nyc_df['datetime'] = pd.to_datetime(nyc_df['datetime'])\n",
    "nyc_df['year'] = nyc_df['datetime'].dt.year\n",
    "nyc_df['day'] = nyc_df['datetime'].dt.dayofyear\n",
    "\n",
    "\n"
   ]
  },
  {
   "cell_type": "markdown",
   "metadata": {},
   "source": [
    "## Step 5: Cleaning\n",
    "\n",
    "We are renaming the columns to make it understandable. Also, we are reseting the row indexes which were displaced because we dropped empty rows."
   ]
  },
  {
   "cell_type": "code",
   "execution_count": 5,
   "metadata": {},
   "outputs": [],
   "source": [
    "#Renaming Columns\n",
    "nyc_df.columns = ['date','temperature','year','day' ]\n",
    "\n",
    "#Reseting row indexes\n",
    "nyc_df.reset_index(inplace=True)"
   ]
  },
  {
   "cell_type": "markdown",
   "metadata": {},
   "source": [
    "## Step 6: Chart Preparation\n",
    "\n",
    "We have imported libraries needed for plotting. Next step is to set the dimension of the chart whict is 15 x 7 inches. Then we choose a color pallete for the gragh using seaborn [color palettes](https://seaborn.pydata.org/tutorial/color_palettes.html)."
   ]
  },
  {
   "cell_type": "code",
   "execution_count": 6,
   "metadata": {},
   "outputs": [
    {
     "data": {
      "text/plain": [
       "<Figure size 1800x720 with 0 Axes>"
      ]
     },
     "metadata": {},
     "output_type": "display_data"
    },
    {
     "data": {
      "image/png": "[encoded data removed]",
      "text/plain": [
       "<Figure size 576x72 with 1 Axes>"
      ]
     },
     "metadata": {
      "needs_background": "light"
     },
     "output_type": "display_data"
    }
   ],
   "source": [
    "import seaborn as sns\n",
    "from matplotlib import pyplot as plt\n",
    "%matplotlib inline\n",
    "\n",
    "#Setting Chart plot and color\n",
    "plt.figure(figsize=(25, 10))\n",
    "sns.palplot(sns.color_palette(\"husl\", 8))\n"
   ]
  },
  {
   "cell_type": "markdown",
   "metadata": {},
   "source": [
    "## Step 7: Plotting the line chart\n",
    "\n",
    "We have plotted a line chart using seaborn function `sns.lineplot()`, `lineplot()` can be substituted with any plottype. `.set_title()` titles the chart.\n",
    "\n",
    "Taking look into the arguments passed:\n",
    "* `x` and `y` are the column names in our DataFrame which are assigned to **x** and **y** axis respectively.\n",
    "* `hue` represents the label by which values of Y axis are grouped.\n",
    "* `data` represents our Pandas DataFrame. \n"
   ]
  },
  {
   "cell_type": "code",
   "execution_count": null,
   "metadata": {},
   "outputs": [],
   "source": [
    "#Plotting Data\n",
    "nyc_chart = sns.lineplot(x=\"day\", y=\"temperature\", hue='year', data=nyc_df ).set_title('NYC Weather Over Time')\n",
    "plt.show()"
   ]
  },
  {
   "cell_type": "markdown",
   "metadata": {},
   "source": [
    "Unfortunately, 3 years isn’t long enough of a time period to visually demonstrate that climate change exists: the world’s temperature is projected to rise an average 2–3 degrees Celsius over the span of roughly a couple hundred years, so our chart isn’t useful. It is just to get comfortable with various python libraries with some fun!"
   ]
  }
 ],
 "metadata": {
  "kernelspec": {
   "display_name": "Python 3",
   "language": "python",
   "name": "python3"
  },
  "language_info": {
   "codemirror_mode": {
    "name": "ipython",
    "version": 3
   },
   "file_extension": ".py",
   "mimetype": "text/x-python",
   "name": "python",
   "nbconvert_exporter": "python",
   "pygments_lexer": "ipython3",
   "version": "3.7.5"
  }
 },
 "nbformat": 4,
 "nbformat_minor": 2
}
